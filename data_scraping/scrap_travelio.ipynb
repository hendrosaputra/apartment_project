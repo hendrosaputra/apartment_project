{
 "cells": [
  {
   "cell_type": "markdown",
   "id": "5247dbcb-a584-4348-8299-7918c1c5a296",
   "metadata": {},
   "source": [
    "# Scraping Process"
   ]
  },
  {
   "cell_type": "markdown",
   "id": "6a67ac6a-70b6-4f9d-9347-67edac5035df",
   "metadata": {},
   "source": [
    "## Importing the Library"
   ]
  },
  {
   "cell_type": "code",
   "execution_count": null,
   "id": "abafe592-334e-440b-9636-96d671a6d8aa",
   "metadata": {
    "tags": []
   },
   "outputs": [],
   "source": [
    "import pandas as pd \n",
    "import time\n",
    "from selenium import webdriver\n",
    "from selenium.webdriver.common.keys import Keys\n",
    "from selenium.webdriver.common.by import By\n",
    "from selenium.common.exceptions import NoSuchElementException\n",
    "from selenium.webdriver.support.ui import WebDriverWait\n",
    "from selenium.webdriver.support import expected_conditions as EC\n",
    "from selenium.common.exceptions import TimeoutException\n",
    "from webdriver_manager.chrome import ChromeDriverManager"
   ]
  },
  {
   "cell_type": "markdown",
   "id": "66b94324-ace4-49f6-879a-999b67b0a556",
   "metadata": {},
   "source": [
    "## Make the driver and Loading the addresss"
   ]
  },
  {
   "cell_type": "code",
   "execution_count": null,
   "id": "18d759e4-b87b-4153-afb7-bb0d95b991f7",
   "metadata": {},
   "outputs": [],
   "source": [
    "driver = webdriver.Chrome()\n",
    "url = 'https://www.travelio.com/search?searchType=monthly&destinationCategory=City&destinationUrlName=&destinationPlaceId=&destinationCountryId=ID&destinationId=544a05f190e50d6a3d000001&nights=30&flexible=1&destination=Jakarta&checkIn=01-04-2023&checkOut=01-05-2023&months=1&propTypeId=apartment&cbFlexible=on&unitType=3%2C2%2C1%2Cstudio&sellType=Unfurnished%2CFull%2BFurnished&bottomPrice=0&upperPrice=20000000'\n",
    "driver.get(url)\n",
    "# keep track of the scroll height\n",
    "last_height = driver.execute_script(\"return document.body.scrollHeight\")\n",
    "\n",
    "while True:\n",
    "    # scroll to the bottom of the page\n",
    "    driver.execute_script(\"window.scrollTo(0, document.body.scrollHeight);\")\n",
    "    \n",
    "    # wait for the page to load\n",
    "    time.sleep(5)\n",
    "    \n",
    "    # calculate the new scroll height and compare to the previous scroll height\n",
    "    new_height = driver.execute_script(\"return document.body.scrollHeight\")\n",
    "    \n",
    "    # if the new scroll height is the same as the previous scroll height, we've reached the end of the page\n",
    "    if new_height == last_height:\n",
    "        break\n",
    "    \n",
    "    # update the last scroll height\n",
    "    last_height = new_height"
   ]
  },
  {
   "cell_type": "markdown",
   "id": "5fff046c-86d7-49fa-aa53-c7a8acf85a35",
   "metadata": {},
   "source": [
    "## Scrap the url for each unit page"
   ]
  },
  {
   "cell_type": "code",
   "execution_count": null,
   "id": "9753c66d-2db1-4615-9aa9-ddbc9ad6a4e7",
   "metadata": {},
   "outputs": [],
   "source": [
    "unit_selections = driver.find_elements(By.CSS_SELECTOR, '.property-box a')\n",
    "unit_link = []\n",
    "for i in unit_selections:\n",
    "    url = i.get_attribute('href')\n",
    "    unit_link.append({'url': url})\n",
    "\n",
    "unit_link_df = pd.DataFrame(unit_link)\n",
    "unit_link_df"
   ]
  },
  {
   "cell_type": "markdown",
   "id": "28f58b91-faf4-4b1e-b6f7-5ad0c68cbc03",
   "metadata": {},
   "source": [
    "## Scrap the Data"
   ]
  },
  {
   "cell_type": "code",
   "execution_count": null,
   "id": "31d63a14-3c55-46e8-ac26-a294f5313361",
   "metadata": {},
   "outputs": [],
   "source": [
    "def get_text_or_default(driver, xpath, default='N/A'):\n",
    "    try:\n",
    "        element = driver.find_element(By.XPATH, xpath)\n",
    "        return element.text\n",
    "    except NoSuchElementException:\n",
    "        return default\n",
    "\n",
    "unit_df = []\n",
    "\n",
    "for m in range(0,len(unit_link_df)):\n",
    "    driver.get(unit_link_df['url'][m])\n",
    "    \n",
    "    button_appeared = False\n",
    "    while not button_appeared:\n",
    "        try:\n",
    "            # Wait for the close button to be clickable\n",
    "            wait = WebDriverWait(driver, 15)\n",
    "            close_button = wait.until(EC.element_to_be_clickable((By.CLASS_NAME, 'close-button')))\n",
    "            \n",
    "            # Click the close button\n",
    "            close_button.click()\n",
    "            time.sleep(2)\n",
    "\n",
    "            button_appeared = True\n",
    "            \n",
    "        except TimeoutException:\n",
    "            # Reload the page if the button hasn't appeared within 30 seconds\n",
    "            driver.refresh()\n",
    "    # Get all element that we want        \n",
    "    unit_name = get_text_or_default(driver, '//*[@id=\"hotel-name\"]/div[1]/h2')\n",
    "    furnish_status = get_text_or_default(driver, '//*[@id=\"hotel-name\"]/div[2]/span[1]')\n",
    "    num_rooms = get_text_or_default(driver, '//*[@id=\"hotel-name\"]/div[2]/span[2]')\n",
    "    num_bathroom = get_text_or_default(driver, '//*[@id=\"hotel-name\"]/div[2]/span[3]')\n",
    "    elec_power = get_text_or_default(driver, '//*[@id=\"hotel-name\"]/div[2]/span[4]')\n",
    "    location = get_text_or_default(driver, '//*[@id=\"hotel-address\"]/span[1]')\n",
    "    size = get_text_or_default(driver, '//*[@id=\"hotel-room-detail\"]/div[2]/div[1]/div[2]')\n",
    "    room_type = get_text_or_default(driver, '//*[@id=\"hotel-room-detail\"]/div[2]/div[3]/div[2]')\n",
    "    property_type = get_text_or_default(driver, '//*[@id=\"page-body-left\"]/div[5]/div[2]/div[1]/div[2]')\n",
    "    building = get_text_or_default(driver, '//*[@id=\"page-body-left\"]/div[5]/div[2]/div[2]/div[1]/div[2]')\n",
    "    tower =  get_text_or_default(driver, '//*[@id=\"page-body-left\"]/div[5]/div[2]/div[2]/div[2]/div[2]')\n",
    "    floor_num = get_text_or_default(driver, '//*[@id=\"page-body-left\"]/div[5]/div[2]/div[2]/div[3]/div[2]') \n",
    "    room_facility = get_text_or_default(driver, '//*[@id=\"page-body-left\"]/div[5]/div[3]/div/div[2]/div[2]')\n",
    "    kitchen_facility = get_text_or_default(driver, '//*[@id=\"page-body-left\"]/div[5]/div[3]/div/div[2]/div[4]')\n",
    "    building_facility = get_text_or_default(driver, '//*[@id=\"page-body-left\"]/div[5]/div[4]/div/div[2]')\n",
    "    clean_rating = get_text_or_default(driver, '//*[@id=\"review-list-container\"]/div[2]/div[1]/div[3]')\n",
    "    location_rating = get_text_or_default(driver, '//*[@id=\"review-list-container\"]/div[2]/div[3]/div[3]')\n",
    "    satis_rating = get_text_or_default(driver, '//*[@id=\"review-list-container\"]/div[2]/div[5]/div[3]')\n",
    "    check_rating = get_text_or_default(driver, '//*[@id=\"review-list-container\"]/div[2]/div[2]/div[3]')\n",
    "    econom_rating = get_text_or_default(driver, '//*[@id=\"review-list-container\"]/div[2]/div[2]/div[3]')\n",
    "    staff_rating = get_text_or_default(driver, '//*[@id=\"review-list-container\"]/div[2]/div[4]/div[3]')\n",
    "    total_rating = get_text_or_default(driver, '//*[@id=\"property-rate\"]/b')\n",
    "    longitude = driver.find_element(By.XPATH, '//*[@id=\"longitude\"]')\n",
    "    latitude = driver.find_element(By.XPATH, '//*[@id=\"latitude\"]')\n",
    "    longitude_value = longitude.get_attribute('value')\n",
    "    latitude_value = latitude.get_attribute('value')\n",
    "    monthly_price = get_text_or_default(driver, '//*[@id=\"price-calculation\"]/div[1]/div[2]') \n",
    "    \n",
    "    unit_df.append({'unit_name': unit_name,\n",
    "                    'furnish_status': furnish_status,\n",
    "                    'num_rooms': num_rooms,\n",
    "                    'num_bathroom': num_bathroom,\n",
    "                    'elec_power': elec_power,\n",
    "                    'location': location,\n",
    "                    'longitude': longitude_value,\n",
    "                    'latitude': latitude_value,\n",
    "                    'size': size,\n",
    "                    'room_type': room_type,\n",
    "                    'property_type': property_type,\n",
    "                    'building': building,\n",
    "                    'tower': tower,\n",
    "                    'floor_num': floor_num,\n",
    "                    'room_facility': room_facility,\n",
    "                    'kitchen_facility': kitchen_facility,\n",
    "                    'building_facility': building_facility,\n",
    "                    'clean_rating': clean_rating,\n",
    "                    'location_rating': location_rating,\n",
    "                    'satisfaction_rating': satis_rating,\n",
    "                    'checkin/out_rating': check_rating,\n",
    "                    'economic_rating': econom_rating,\n",
    "                    'staff_rating': staff_rating, \n",
    "                    'total_rating': total_rating,\n",
    "                    'monthly_price': monthly_price})\n"
   ]
  },
  {
   "cell_type": "markdown",
   "id": "1682c399-0b06-43b6-9bd8-bdfdf824f291",
   "metadata": {},
   "source": [
    "# Data Cleaning process"
   ]
  },
  {
   "cell_type": "markdown",
   "id": "741558cc-d8ca-4673-8373-7b175de27621",
   "metadata": {
    "tags": []
   },
   "source": [
    "## Convert to Data Frame"
   ]
  },
  {
   "cell_type": "code",
   "execution_count": null,
   "id": "214e7e33-416b-447a-ae39-de208bdcdc06",
   "metadata": {},
   "outputs": [],
   "source": [
    "pd.options.display.max_columns = None  "
   ]
  },
  {
   "cell_type": "code",
   "execution_count": null,
   "id": "f42a8079-cc84-4a19-9504-2097a7f95c7f",
   "metadata": {},
   "outputs": [],
   "source": [
    "df = pd.DataFrame(unit_df)"
   ]
  },
  {
   "cell_type": "code",
   "execution_count": null,
   "id": "868a1690-1081-4106-b3d3-296c45c06df6",
   "metadata": {},
   "outputs": [],
   "source": [
    "df"
   ]
  },
  {
   "cell_type": "code",
   "execution_count": null,
   "id": "a2915bba-7302-4a18-9f11-670519b9d1e4",
   "metadata": {
    "tags": []
   },
   "outputs": [],
   "source": [
    "df.isnull().sum()"
   ]
  },
  {
   "cell_type": "code",
   "execution_count": null,
   "id": "08ff10e0-2494-47f0-b3f1-b563d4092f2e",
   "metadata": {
    "tags": []
   },
   "outputs": [],
   "source": [
    "df.dtypes"
   ]
  },
  {
   "cell_type": "code",
   "execution_count": null,
   "id": "55f14814-fbe2-4f7c-8ac9-7ab6b9a6b6eb",
   "metadata": {},
   "outputs": [],
   "source": [
    "try_df = df[['num_bathroom','elec_power']]\n",
    "try_df"
   ]
  },
  {
   "cell_type": "code",
   "execution_count": null,
   "id": "3c2d652e-2552-4b18-8972-1a799e46a3ad",
   "metadata": {},
   "outputs": [],
   "source": [
    "try_df['elec_power'] = try_df.apply(lambda row: row['num_bathroom'] if row['elec_power'] == 'N/A' else row['elec_power'], axis=1)"
   ]
  },
  {
   "cell_type": "code",
   "execution_count": null,
   "id": "fc201e21-67aa-42d1-81f1-8197c324169d",
   "metadata": {},
   "outputs": [],
   "source": [
    "df['elec_power'] = try_df['elec_power']"
   ]
  },
  {
   "cell_type": "code",
   "execution_count": null,
   "id": "524d4a4c-b807-4d6e-8c0d-11358fedd15c",
   "metadata": {},
   "outputs": [],
   "source": [
    "try_df = df[['num_rooms','num_bathroom']]\n",
    "import re\n",
    "\n",
    "# Define a regular expression pattern to match numeric values\n",
    "pattern = r'\\d+'\n",
    "\n",
    "# Define a function to extract the numeric portion of a string and convert it to an integer\n",
    "def extract_number(s):\n",
    "    match = re.search(pattern, s)\n",
    "    if match:\n",
    "        return int(match.group())\n",
    "    else:\n",
    "        return None\n",
    "\n",
    "# Apply the function to the 'num_bathroom' column to extract the numeric values\n",
    "try_df['num_bathroom'] = try_df['num_bathroom'].apply(extract_number)\n",
    "\n",
    "try_df['num_bathroom'] = try_df.apply(lambda x: x['num_rooms'] if x['num_bathroom'] not in [1, 2, 3] else x['num_bathroom'], axis=1)\n",
    "\n",
    "try_df"
   ]
  },
  {
   "cell_type": "code",
   "execution_count": null,
   "id": "95c0953e-f4ad-4136-9c33-262a6830afb3",
   "metadata": {},
   "outputs": [],
   "source": [
    "try_df['num_bathroom'].value_counts()"
   ]
  },
  {
   "cell_type": "code",
   "execution_count": null,
   "id": "a8375078-b00b-4d29-8f21-c958e1c4c70f",
   "metadata": {},
   "outputs": [],
   "source": [
    "df['num_bathroom'] = try_df['num_bathroom']\n",
    "df"
   ]
  },
  {
   "cell_type": "code",
   "execution_count": null,
   "id": "cbdf77bd-7a63-4e18-876f-8792f6825372",
   "metadata": {},
   "outputs": [],
   "source": [
    "df['elec_power'] = df['elec_power'].str.replace('Watt', '')\n",
    "df"
   ]
  },
  {
   "cell_type": "code",
   "execution_count": null,
   "id": "50bb8c86-900f-4370-8bd0-6b673fa46b21",
   "metadata": {},
   "outputs": [],
   "source": [
    "df = df.replace('N/A', np.nan)\n",
    "df.isnull().sum()"
   ]
  },
  {
   "cell_type": "code",
   "execution_count": null,
   "id": "040eb597-6caa-4953-80c9-41e850d5c68b",
   "metadata": {
    "tags": []
   },
   "outputs": [],
   "source": [
    "# convert to numeric\n",
    "df['num_rooms'] = pd.to_numeric(df['num_rooms'], errors='coerce')\n",
    "df['num_bathroom'] = pd.to_numeric(df['num_bathroom'], errors='coerce')\n",
    "df['elec_power'] = pd.to_numeric(df['elec_power'], errors='coerce')\n",
    "\n",
    "# fill null values\n",
    "df['num_rooms'] = df['num_rooms'].fillna(value=np.nan)\n",
    "df['num_bathroom'] = df['num_bathroom'].fillna(value=np.nan)\n",
    "df['elec_power'] = df['elec_power'].fillna(value=np.nan)"
   ]
  },
  {
   "cell_type": "code",
   "execution_count": null,
   "id": "42122ca9-65e9-4c60-b70c-fde57ef15b3c",
   "metadata": {},
   "outputs": [],
   "source": [
    "df"
   ]
  },
  {
   "cell_type": "code",
   "execution_count": null,
   "id": "2778c320-9f48-4717-a4c4-0bd308fc5d0a",
   "metadata": {
    "tags": []
   },
   "outputs": [],
   "source": [
    "df.fillna(value=np.nan, inplace=True)\n",
    "df.isnull().sum()"
   ]
  },
  {
   "cell_type": "code",
   "execution_count": null,
   "id": "3f8ddb3b-df11-4b7f-b4e6-89ff67c29399",
   "metadata": {
    "tags": []
   },
   "outputs": [],
   "source": [
    "df['longitude'] = df['longitude'].astype(float)\n",
    "df['latitude'] = df['latitude'].astype(float)\n",
    "df"
   ]
  },
  {
   "cell_type": "code",
   "execution_count": null,
   "id": "2f2ff934-be09-49a6-957b-915f4ecc5c92",
   "metadata": {
    "tags": []
   },
   "outputs": [],
   "source": [
    "df['size'] = df['size'].astype(float)\n",
    "df"
   ]
  },
  {
   "cell_type": "code",
   "execution_count": null,
   "id": "6fe5cdf9-8eed-4f7f-b0f5-a9dd67fcda6d",
   "metadata": {},
   "outputs": [],
   "source": [
    "# Select rows that meet the condition\n",
    "mask = ~df['property_type'].str.contains('Apartemen', na=False)\n",
    "df.loc[mask, 'property_type'] = 'Apartemen'"
   ]
  },
  {
   "cell_type": "code",
   "execution_count": null,
   "id": "f6a49082-2b21-4880-a9d0-d47b01d6d50b",
   "metadata": {},
   "outputs": [],
   "source": [
    "def extract_max_number(val):\n",
    "    if pd.isna(val):\n",
    "        return None\n",
    "    elif isinstance(val, int):\n",
    "        val = str(val)\n",
    "    if ',' in val:\n",
    "        num_list = val.split(',')\n",
    "        try:\n",
    "            return max(list(map(int, num_list)))\n",
    "        except ValueError:\n",
    "            return None\n",
    "    else:\n",
    "        try:\n",
    "            return int(val)\n",
    "        except ValueError:\n",
    "            return None"
   ]
  },
  {
   "cell_type": "code",
   "execution_count": null,
   "id": "365370dc-7643-4a3e-9fd2-5bac6078106c",
   "metadata": {},
   "outputs": [],
   "source": [
    "df['floor_num'] = df['floor_num'].apply(extract_max_number)\n",
    "df['floor_num'] = df['floor_num'].fillna(np.nan)\n",
    "df['floor_num'].unique()"
   ]
  },
  {
   "cell_type": "code",
   "execution_count": null,
   "id": "8d4751f7-cd33-4ece-b60f-e3cf00c29321",
   "metadata": {},
   "outputs": [],
   "source": [
    "df.loc[df['floor_num'] == 2102.0] "
   ]
  },
  {
   "cell_type": "code",
   "execution_count": null,
   "id": "77bdaffd-6eae-4d39-9c1d-834895d48c31",
   "metadata": {
    "tags": []
   },
   "outputs": [],
   "source": [
    "df['floor_num'][2263] = 21"
   ]
  },
  {
   "cell_type": "code",
   "execution_count": null,
   "id": "50d4991e-cd8e-4481-811f-24e7bc7a2527",
   "metadata": {},
   "outputs": [],
   "source": [
    "def clean_price(price_str):\n",
    "    if price_str and isinstance(price_str, str):\n",
    "        price_str = price_str.replace(',', '').replace('IDR', '').strip()\n",
    "        return int(price_str)\n",
    "    else:\n",
    "        return None\n",
    "\n",
    "df['monthly_price'] = df['monthly_price'].apply(clean_price)"
   ]
  },
  {
   "cell_type": "code",
   "execution_count": null,
   "id": "fddeab92-e295-4256-91f3-bdf80b4d53a2",
   "metadata": {},
   "outputs": [],
   "source": [
    "null_monthly_price = df[df['monthly_price'].isnull()]\n",
    "null_monthly_price"
   ]
  },
  {
   "cell_type": "code",
   "execution_count": null,
   "id": "9f5eb7a2-e9e5-4697-b410-5cc4d82fdd77",
   "metadata": {
    "tags": []
   },
   "outputs": [],
   "source": [
    "df['monthly_price'][304] = 4209787\n",
    "df['monthly_price'][327] = 3620000\n",
    "df['monthly_price'][444] = 3820000\n",
    "df['monthly_price'][747] = 4121713\n",
    "df['monthly_price'][845] = 4950659\n",
    "df['monthly_price'][978] = 4665000\n",
    "df['monthly_price'][1274] = 5256285\n",
    "df['monthly_price'][1310] = 5321706\n",
    "df['monthly_price'][1602] = np.nan\n",
    "df['monthly_price'][1715] = 6620000\n",
    "df['monthly_price'][2176] = np.nan\n",
    "df['monthly_price'][2319] = 14478600\n",
    "df['monthly_price'][2377] = 15510000\n",
    "df['monthly_price'][2391] = 16105270\n",
    "df['monthly_price'][2421] = np.nan\n",
    "df['monthly_price'][3047] = 3620000"
   ]
  },
  {
   "cell_type": "code",
   "execution_count": null,
   "id": "e0aaf1c4-4288-49ea-acf2-7621130520bf",
   "metadata": {},
   "outputs": [],
   "source": [
    "df['clean_rating'] = df['clean_rating'].astype(float)\n",
    "df['location_rating'] = df['clean_rating'].astype(float)\n",
    "df['satisfaction_rating'] = df['clean_rating'].astype(float)\n",
    "df['checkin/out_rating'] = df['clean_rating'].astype(float)\n",
    "df['economic_rating'] = df['clean_rating'].astype(float)\n",
    "df['staff_rating'] = df['clean_rating'].astype(float)\n",
    "df['total_rating'] = df['clean_rating'].astype(float)"
   ]
  },
  {
   "cell_type": "code",
   "execution_count": null,
   "id": "ab5db0c2-c110-41b2-aa79-c6098434c253",
   "metadata": {},
   "outputs": [],
   "source": [
    "df = df.replace('\\n', ',', regex=True)"
   ]
  },
  {
   "cell_type": "code",
   "execution_count": null,
   "id": "0ccad8d2-6c39-4bcc-9325-15a19eff0bd8",
   "metadata": {},
   "outputs": [],
   "source": [
    "df"
   ]
  },
  {
   "cell_type": "code",
   "execution_count": null,
   "id": "7ee6000e-e2cd-4dd1-ba89-25b0d41fb6dc",
   "metadata": {},
   "outputs": [],
   "source": [
    "df.to_csv('unit_df.csv')"
   ]
  }
 ],
 "metadata": {
  "kernelspec": {
   "display_name": "Python 3 (ipykernel)",
   "language": "python",
   "name": "python3"
  },
  "language_info": {
   "codemirror_mode": {
    "name": "ipython",
    "version": 3
   },
   "file_extension": ".py",
   "mimetype": "text/x-python",
   "name": "python",
   "nbconvert_exporter": "python",
   "pygments_lexer": "ipython3",
   "version": "3.9.10"
  }
 },
 "nbformat": 4,
 "nbformat_minor": 5
}
